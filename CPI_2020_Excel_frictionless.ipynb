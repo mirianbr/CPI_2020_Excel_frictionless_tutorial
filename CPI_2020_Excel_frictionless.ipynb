{
  "nbformat": 4,
  "nbformat_minor": 0,
  "metadata": {
    "colab": {
      "name": "CPI_2020_Excel-frictionless.ipynb",
      "provenance": [],
      "toc_visible": true,
      "authorship_tag": "ABX9TyNNRQO44KIPasjbmmisssvE",
      "include_colab_link": true
    },
    "kernelspec": {
      "name": "python3",
      "display_name": "Python 3"
    },
    "language_info": {
      "name": "python"
    }
  },
  "cells": [
    {
      "cell_type": "markdown",
      "metadata": {
        "id": "view-in-github",
        "colab_type": "text"
      },
      "source": [
        "<a href=\"https://colab.research.google.com/github/mirianbr/CPI_2020_Excel_frictionless_tutorial/blob/main/CPI_2020_Excel_frictionless.ipynb\" target=\"_parent\"><img src=\"https://colab.research.google.com/assets/colab-badge.svg\" alt=\"Open In Colab\"/></a>"
      ]
    },
    {
      "cell_type": "markdown",
      "metadata": {
        "id": "XlFLm_WXzK42"
      },
      "source": [
        "# Describing the Corruption Perception Index dataset\n",
        "\n",
        "This tutorial uses frictionless to generate metadata and describe the [Corruption Perception Index dataset](https://www.transparency.org/cpi), created and updated every year by [Transparency International](https://www.transparency.org).\n",
        "\n",
        "## Learning goals\n",
        "\n",
        "* Explore a real dataset in Excel\n",
        "* Generate metadata to describe it for other frictionless users\n",
        "\n",
        "## Introduction\n",
        "\n",
        "Transparency International provide the dataset in Excel format, but no machine-readable metadata is provided. They describe the data, the methodology and sources in their [report](https://images.transparencycdn.org/images/CPI2020_Report_EN_0802-WEB-1_2021-02-08-103053.pdf) and [additional PDF files](https://images.transparencycdn.org/images/2020-Methodology_v3.zip), readable by humans by not by machines."
      ]
    },
    {
      "cell_type": "markdown",
      "metadata": {
        "id": "pmbmCIhI9Jjr"
      },
      "source": [
        "## Step 0. Installation\n",
        "\n",
        "Let's first install and import all libraries we're going to use in this notebook."
      ]
    },
    {
      "cell_type": "code",
      "metadata": {
        "id": "qcUKwqK8vnYT"
      },
      "source": [
        "%%capture\n",
        "\n",
        "!pip install frictionless\n",
        "!pip install frictionless[excel]"
      ],
      "execution_count": null,
      "outputs": []
    },
    {
      "cell_type": "code",
      "metadata": {
        "id": "876WKDsz99bL"
      },
      "source": [
        "from frictionless import describe_schema, Resource, Schema, Package\n",
        "from frictionless.plugins.excel import ExcelDialect"
      ],
      "execution_count": null,
      "outputs": []
    },
    {
      "cell_type": "markdown",
      "metadata": {
        "id": "iL_SZWtk_0Zz"
      },
      "source": [
        "## Step 1. Loading the data\n",
        "\n",
        "We'll be loading the Excel file locally first. The original file can be retrieved [here](https://www.transparency.org/en/cpi/2020/index/nzl), in a ZIP file. \n",
        "\n",
        "The data file has a `xlsx` extension, but it's actually not Excel: it's a Strict Open XML file. \n",
        "\n",
        "Be aware that this type of file cannot be loaded as an Excel resource by frictionless. If you have Excel installed, though, you can open the file and just save it again as an Excel worksheet. You can also save it as a CSV file and work with it, if you prefer."
      ]
    },
    {
      "cell_type": "code",
      "metadata": {
        "colab": {
          "resources": {
            "http://localhost:8080/nbextensions/google.colab/files.js": {
              "data": "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",
              "ok": true,
              "headers": [
                [
                  "content-type",
                  "application/javascript"
                ]
              ],
              "status": 200,
              "status_text": "OK"
            }
          },
          "base_uri": "https://localhost:8080/",
          "height": 75
        },
        "id": "yCmNuXneZYK8",
        "outputId": "baf1716e-2824-44f5-fc53-75bbf2a7894d"
      },
      "source": [
        "from google.colab import files\n",
        "uploaded = files.upload()"
      ],
      "execution_count": null,
      "outputs": [
        {
          "output_type": "display_data",
          "data": {
            "text/html": [
              "\n",
              "     <input type=\"file\" id=\"files-c4249917-88b5-44d6-b4da-19f2e2c931c5\" name=\"files[]\" multiple disabled\n",
              "        style=\"border:none\" />\n",
              "     <output id=\"result-c4249917-88b5-44d6-b4da-19f2e2c931c5\">\n",
              "      Upload widget is only available when the cell has been executed in the\n",
              "      current browser session. Please rerun this cell to enable.\n",
              "      </output>\n",
              "      <script src=\"/nbextensions/google.colab/files.js\"></script> "
            ],
            "text/plain": [
              "<IPython.core.display.HTML object>"
            ]
          },
          "metadata": {}
        },
        {
          "output_type": "stream",
          "name": "stdout",
          "text": [
            "Saving CPI2020_GlobalTablesTS_210125-Excel.xlsx to CPI2020_GlobalTablesTS_210125-Excel.xlsx\n"
          ]
        }
      ]
    },
    {
      "cell_type": "markdown",
      "metadata": {
        "id": "_6mQvrOBBpZK"
      },
      "source": [
        "## Step 2. Exploring the data\n",
        "\n",
        "We'll now use frictionless to read the Excel as a Resource, and see how the data looks like. \n",
        "\n",
        "We won't specify the sheet we want to load here, for it'll use the first one by default (and that's what we want). We'll come back to the second sheet later."
      ]
    },
    {
      "cell_type": "code",
      "metadata": {
        "id": "EgjQUAVkaOaE"
      },
      "source": [
        "cpi_by_country = Resource(path='CPI2020_GlobalTablesTS_210125-Excel.xlsx')"
      ],
      "execution_count": null,
      "outputs": []
    },
    {
      "cell_type": "code",
      "metadata": {
        "colab": {
          "base_uri": "https://localhost:8080/",
          "height": 129
        },
        "id": "OTKIEOVNCyPC",
        "outputId": "f72b43d8-c8eb-46e6-c17b-265de60d5021"
      },
      "source": [
        "cpi_by_country.to_view()"
      ],
      "execution_count": null,
      "outputs": [
        {
          "output_type": "execute_result",
          "data": {
            "application/vnd.google.colaboratory.intrinsic+json": {
              "type": "string"
            },
            "text/plain": [
              "\"+--------------------------------------------------+--------+----------+--------+--------+---------------------+--------+---------------------+---------------------+---------------------------------+-------------------------------------------------------+---------+---------+------------------------------------+---------+---------+------------------------+---------+---------+-------------------+---------+---------+\\n| Corruption Perceptions Index 2020: Global Scores | field2 | field3   | field4 | field5 | field6              | field7 | field8              | field9              | field10                         | field11                                               | field12 | field13 | field14                            | field15 | field16 | field17                | field18 | field19 | field20           | field21 | field22 |\\n+==================================================+========+==========+========+========+=====================+========+=====================+=====================+=================================+=======================================================+=========+=========+====================================+=========+=========+========================+=========+=========+===================+=========+=========+\\n| None                                             | None   | None     | None   | None   | None                | None   | None                | None                | None                            | None                                                  | None    | None    | None                               | None    | None    | None                   | None    | None    | None              | None    | None    |\\n+--------------------------------------------------+--------+----------+--------+--------+---------------------+--------+---------------------+---------------------+---------------------------------+-------------------------------------------------------+---------+---------+------------------------------------+---------+---------+------------------------+---------+---------+-------------------+---------+---------+\\n| 'Country'                                        | 'ISO3' | 'Region' | None   | None   | None                | None   | None                | None                | 'African Development Bank CPIA' | 'Bertelsmann Foundation Sustainable Governance Index' | None    | None    | 'Freedom House Nations in Transit' | None    | None    | 'PERC Asia Risk Guide' | None    | None    | 'World Bank CPIA' | None    | None    |\\n+--------------------------------------------------+--------+----------+--------+--------+---------------------+--------+---------------------+---------------------+---------------------------------+-------------------------------------------------------+---------+---------+------------------------------------+---------+---------+------------------------+---------+---------+-------------------+---------+---------+\\n| 'Denmark'                                        | 'DNK'  | 'WE/EU'  |     88 |      1 | Decimal('1.775809') |      8 | Decimal('85.08767') | Decimal('90.91233') | None                            |                                                    97 | None    |      90 | None                               |      83 |      94 | None                   |      98 |      78 | None              |      79 |      86 |\\n+--------------------------------------------------+--------+----------+--------+--------+---------------------+--------+---------------------+---------------------+---------------------------------+-------------------------------------------------------+---------+---------+------------------------------------+---------+---------+------------------------+---------+---------+-------------------+---------+---------+\\n| 'New Zealand'                                    | 'NZL'  | 'AP'     |     88 |      1 | Decimal('1.479342') |      8 | Decimal('85.57388') | Decimal('90.42612') | None                            |                                                    97 | None    |      90 | None                               |      83 |      92 | None                   |      93 |      77 | None              |      89 |      82 |\\n+--------------------------------------------------+--------+----------+--------+--------+---------------------+--------+---------------------+---------------------+---------------------------------+-------------------------------------------------------+---------+---------+------------------------------------+---------+---------+------------------------+---------+---------+-------------------+---------+---------+\\n| 'Finland'                                        | 'FIN'  | 'WE/EU'  |     85 |      3 | Decimal('1.748594') |      8 | Decimal('82.13231') | Decimal('87.86769') | None                            |                                                    88 | None    |      72 | None                               |      83 |      91 | None                   |      93 |      77 | None              |      93 |      86 |\\n+--------------------------------------------------+--------+----------+--------+--------+---------------------+--------+---------------------+---------------------+---------------------------------+-------------------------------------------------------+---------+---------+------------------------------------+---------+---------+------------------------+---------+---------+-------------------+---------+---------+\\n...\\n\""
            ]
          },
          "metadata": {},
          "execution_count": 6
        }
      ]
    },
    {
      "cell_type": "markdown",
      "metadata": {
        "id": "NyW2DA3jdQ8q"
      },
      "source": [
        "That doesn't look right. How do the top rows look like?"
      ]
    },
    {
      "cell_type": "code",
      "metadata": {
        "colab": {
          "base_uri": "https://localhost:8080/"
        },
        "id": "lkqF8UBwhvaZ",
        "outputId": "b4159b41-821f-4949-d91d-931258f9b3e3"
      },
      "source": [
        "cpi_by_country.read_rows()[:10]"
      ],
      "execution_count": null,
      "outputs": [
        {
          "output_type": "execute_result",
          "data": {
            "text/plain": [
              "[{'Corruption Perceptions Index 2020: Global Scores': None, 'field2': None, 'field3': None, 'field4': None, 'field5': None, 'field6': None, 'field7': None, 'field8': None, 'field9': None, 'field10': None, 'field11': None, 'field12': None, 'field13': None, 'field14': None, 'field15': None, 'field16': None, 'field17': None, 'field18': None, 'field19': None, 'field20': None, 'field21': None, 'field22': None},\n",
              " {'Corruption Perceptions Index 2020: Global Scores': 'Country', 'field2': 'ISO3', 'field3': 'Region', 'field4': None, 'field5': None, 'field6': None, 'field7': None, 'field8': None, 'field9': None, 'field10': 'African Development Bank CPIA', 'field11': 'Bertelsmann Foundation Sustainable Governance Index', 'field12': None, 'field13': None, 'field14': 'Freedom House Nations in Transit', 'field15': None, 'field16': None, 'field17': 'PERC Asia Risk Guide', 'field18': None, 'field19': None, 'field20': 'World Bank CPIA', 'field21': None, 'field22': None},\n",
              " {'Corruption Perceptions Index 2020: Global Scores': 'Denmark', 'field2': 'DNK', 'field3': 'WE/EU', 'field4': 88, 'field5': 1, 'field6': Decimal('1.775809'), 'field7': 8, 'field8': Decimal('85.08767'), 'field9': Decimal('90.91233'), 'field10': None, 'field11': 97, 'field12': None, 'field13': 90, 'field14': None, 'field15': 83, 'field16': 94, 'field17': None, 'field18': 98, 'field19': 78, 'field20': None, 'field21': 79, 'field22': 86},\n",
              " {'Corruption Perceptions Index 2020: Global Scores': 'New Zealand', 'field2': 'NZL', 'field3': 'AP', 'field4': 88, 'field5': 1, 'field6': Decimal('1.479342'), 'field7': 8, 'field8': Decimal('85.57388'), 'field9': Decimal('90.42612'), 'field10': None, 'field11': 97, 'field12': None, 'field13': 90, 'field14': None, 'field15': 83, 'field16': 92, 'field17': None, 'field18': 93, 'field19': 77, 'field20': None, 'field21': 89, 'field22': 82},\n",
              " {'Corruption Perceptions Index 2020: Global Scores': 'Finland', 'field2': 'FIN', 'field3': 'WE/EU', 'field4': 85, 'field5': 3, 'field6': Decimal('1.748594'), 'field7': 8, 'field8': Decimal('82.13231'), 'field9': Decimal('87.86769'), 'field10': None, 'field11': 88, 'field12': None, 'field13': 72, 'field14': None, 'field15': 83, 'field16': 91, 'field17': None, 'field18': 93, 'field19': 77, 'field20': None, 'field21': 93, 'field22': 86},\n",
              " {'Corruption Perceptions Index 2020: Global Scores': 'Singapore', 'field2': 'SGP', 'field3': 'AP', 'field4': 85, 'field5': 3, 'field6': Decimal('1.203239'), 'field7': 9, 'field8': Decimal('83.02669'), 'field9': Decimal('86.97331'), 'field10': None, 'field11': None, 'field12': 73, 'field13': 90, 'field14': None, 'field15': 83, 'field16': 91, 'field17': 90, 'field18': 85, 'field19': 77, 'field20': None, 'field21': 89, 'field22': 85},\n",
              " {'Corruption Perceptions Index 2020: Global Scores': 'Sweden', 'field2': 'SWE', 'field3': 'WE/EU', 'field4': 85, 'field5': 3, 'field6': Decimal('1.303953'), 'field7': 8, 'field8': Decimal('82.86152'), 'field9': Decimal('87.13848'), 'field10': None, 'field11': 88, 'field12': None, 'field13': 90, 'field14': None, 'field15': 83, 'field16': 84, 'field17': None, 'field18': 93, 'field19': 77, 'field20': None, 'field21': 77, 'field22': 87},\n",
              " {'Corruption Perceptions Index 2020: Global Scores': 'Switzerland', 'field2': 'CHE', 'field3': 'WE/EU', 'field4': 85, 'field5': 3, 'field6': Decimal('1.096633'), 'field7': 7, 'field8': Decimal('83.20152'), 'field9': Decimal('86.79848'), 'field10': None, 'field11': 88, 'field12': None, 'field13': 90, 'field14': None, 'field15': 83, 'field16': 87, 'field17': None, 'field18': 85, 'field19': 77, 'field20': None, 'field21': 83, 'field22': None},\n",
              " {'Corruption Perceptions Index 2020: Global Scores': 'Norway', 'field2': 'NOR', 'field3': 'WE/EU', 'field4': 84, 'field5': 7, 'field6': Decimal('1.257705'), 'field7': 7, 'field8': Decimal('81.93736'), 'field9': Decimal('86.06264'), 'field10': None, 'field11': 88, 'field12': None, 'field13': 90, 'field14': None, 'field15': 83, 'field16': 78, 'field17': None, 'field18': 85, 'field19': 78, 'field20': None, 'field21': None, 'field22': 87},\n",
              " {'Corruption Perceptions Index 2020: Global Scores': 'Netherlands', 'field2': 'NLD', 'field3': 'WE/EU', 'field4': 82, 'field5': 8, 'field6': Decimal('1.438214'), 'field7': 8, 'field8': Decimal('79.64133'), 'field9': Decimal('84.35867'), 'field10': None, 'field11': 70, 'field12': None, 'field13': 90, 'field14': None, 'field15': 83, 'field16': 89, 'field17': None, 'field18': 85, 'field19': 77, 'field20': None, 'field21': 81, 'field22': 82}]"
            ]
          },
          "metadata": {},
          "execution_count": 7
        }
      ]
    },
    {
      "cell_type": "markdown",
      "metadata": {
        "id": "22kvuK7zhx_-"
      },
      "source": [
        "Now let's take a look at the current schema, automatically retrieved by frictionless."
      ]
    },
    {
      "cell_type": "code",
      "metadata": {
        "colab": {
          "base_uri": "https://localhost:8080/"
        },
        "id": "zfbwBbTqda0x",
        "outputId": "47008169-324c-4fe2-879d-5837702cec95"
      },
      "source": [
        "cpi_by_country.schema"
      ],
      "execution_count": null,
      "outputs": [
        {
          "output_type": "execute_result",
          "data": {
            "text/plain": [
              "{'fields': [{'name': 'Corruption Perceptions Index 2020: Global Scores',\n",
              "   'type': 'string'},\n",
              "  {'name': 'field2', 'type': 'string'},\n",
              "  {'name': 'field3', 'type': 'string'},\n",
              "  {'name': 'field4', 'type': 'integer'},\n",
              "  {'name': 'field5', 'type': 'integer'},\n",
              "  {'name': 'field6', 'type': 'number'},\n",
              "  {'name': 'field7', 'type': 'integer'},\n",
              "  {'name': 'field8', 'type': 'number'},\n",
              "  {'name': 'field9', 'type': 'number'},\n",
              "  {'name': 'field10', 'type': 'any'},\n",
              "  {'name': 'field11', 'type': 'any'},\n",
              "  {'name': 'field12', 'type': 'integer'},\n",
              "  {'name': 'field13', 'type': 'integer'},\n",
              "  {'name': 'field14', 'type': 'any'},\n",
              "  {'name': 'field15', 'type': 'integer'},\n",
              "  {'name': 'field16', 'type': 'integer'},\n",
              "  {'name': 'field17', 'type': 'any'},\n",
              "  {'name': 'field18', 'type': 'integer'},\n",
              "  {'name': 'field19', 'type': 'integer'},\n",
              "  {'name': 'field20', 'type': 'any'},\n",
              "  {'name': 'field21', 'type': 'integer'},\n",
              "  {'name': 'field22', 'type': 'integer'}]}"
            ]
          },
          "metadata": {},
          "execution_count": 8
        }
      ]
    },
    {
      "cell_type": "markdown",
      "metadata": {
        "id": "nd1_cU8xiHz4"
      },
      "source": [
        "The field names are all messed up, but the values actually seem fine. Let's fix that."
      ]
    },
    {
      "cell_type": "markdown",
      "metadata": {
        "id": "D1Ni-gAA-EuS"
      },
      "source": [
        "## Step 3. Generating and fixing metadata\n",
        "\n",
        "By looking at the Excel file, we can see the header is in the 3rd row. We'll start by reloading the file and immediately set the header rows to 3."
      ]
    },
    {
      "cell_type": "code",
      "metadata": {
        "id": "0ZSGcFIZfgMY"
      },
      "source": [
        "cpi_by_country = Resource(path='CPI2020_GlobalTablesTS_210125-Excel.xlsx')\n",
        "cpi_by_country.layout.header_rows = [3]"
      ],
      "execution_count": null,
      "outputs": []
    },
    {
      "cell_type": "code",
      "metadata": {
        "colab": {
          "base_uri": "https://localhost:8080/"
        },
        "id": "C7TYP7x6nCb2",
        "outputId": "3c9eaa3e-5e70-41fc-837e-08a476b42158"
      },
      "source": [
        "cpi_by_country"
      ],
      "execution_count": null,
      "outputs": [
        {
          "output_type": "execute_result",
          "data": {
            "text/plain": [
              "{'layout': {'headerRows': [3]},\n",
              " 'path': 'CPI2020_GlobalTablesTS_210125-Excel.xlsx'}"
            ]
          },
          "metadata": {},
          "execution_count": 18
        }
      ]
    },
    {
      "cell_type": "code",
      "metadata": {
        "colab": {
          "base_uri": "https://localhost:8080/"
        },
        "id": "ytC3TNsArZCa",
        "outputId": "4df433bd-a3e6-430b-c97c-76f44c3dcac1"
      },
      "source": [
        "print(cpi_by_country.to_view())"
      ],
      "execution_count": null,
      "outputs": [
        {
          "output_type": "stream",
          "name": "stdout",
          "text": [
            "+---------------+----------+---------+----------------+------+---------------------+-------------------+---------------------+---------------------+-------------------------------+-----------------------------------------------------+---------------------------------------------+---------------------------------------------+----------------------------------+-------------------------------------+------------------------------------+----------------------+--------------------------------------+--------------------------------+-----------------+--------------------------+-----------------------------------------+\n",
            "| Country       | ISO31661 | Region  | CPI score 2020 | Rank | Standard error      | Number of sources | Lower CI            | Upper CI            | African Development Bank CPIA | Bertelsmann Foundation Sustainable Governance Index | Bertelsmann Foundation Transformation Index | Economist Intelligence Unit Country Ratings | Freedom House Nations in Transit | Global Insight Country Risk Ratings | IMD World Competitiveness Yearbook | PERC Asia Risk Guide | PRS International Country Risk Guide | Varieties of Democracy Project | World Bank CPIA | World Economic Forum EOS | World Justice Project Rule of Law Index |\n",
            "+===============+==========+=========+================+======+=====================+===================+=====================+=====================+===============================+=====================================================+=============================================+=============================================+==================================+=====================================+====================================+======================+======================================+================================+=================+==========================+=========================================+\n",
            "| 'Denmark'     | 'DNK'    | 'WE/EU' |             88 |    1 | Decimal('1.775809') |                 8 | Decimal('85.08767') | Decimal('90.91233') | None                          |                                                  97 | None                                        |                                          90 | None                             |                                  83 |                                 94 | None                 |                                   98 |                             78 | None            |                       79 |                                      86 |\n",
            "+---------------+----------+---------+----------------+------+---------------------+-------------------+---------------------+---------------------+-------------------------------+-----------------------------------------------------+---------------------------------------------+---------------------------------------------+----------------------------------+-------------------------------------+------------------------------------+----------------------+--------------------------------------+--------------------------------+-----------------+--------------------------+-----------------------------------------+\n",
            "| 'New Zealand' | 'NZL'    | 'AP'    |             88 |    1 | Decimal('1.479342') |                 8 | Decimal('85.57388') | Decimal('90.42612') | None                          |                                                  97 | None                                        |                                          90 | None                             |                                  83 |                                 92 | None                 |                                   93 |                             77 | None            |                       89 |                                      82 |\n",
            "+---------------+----------+---------+----------------+------+---------------------+-------------------+---------------------+---------------------+-------------------------------+-----------------------------------------------------+---------------------------------------------+---------------------------------------------+----------------------------------+-------------------------------------+------------------------------------+----------------------+--------------------------------------+--------------------------------+-----------------+--------------------------+-----------------------------------------+\n",
            "| 'Finland'     | 'FIN'    | 'WE/EU' |             85 |    3 | Decimal('1.748594') |                 8 | Decimal('82.13231') | Decimal('87.86769') | None                          |                                                  88 | None                                        |                                          72 | None                             |                                  83 |                                 91 | None                 |                                   93 |                             77 | None            |                       93 |                                      86 |\n",
            "+---------------+----------+---------+----------------+------+---------------------+-------------------+---------------------+---------------------+-------------------------------+-----------------------------------------------------+---------------------------------------------+---------------------------------------------+----------------------------------+-------------------------------------+------------------------------------+----------------------+--------------------------------------+--------------------------------+-----------------+--------------------------+-----------------------------------------+\n",
            "| 'Singapore'   | 'SGP'    | 'AP'    |             85 |    3 | Decimal('1.203239') |                 9 | Decimal('83.02669') | Decimal('86.97331') | None                          | None                                                |                                          73 |                                          90 | None                             |                                  83 |                                 91 |                   90 |                                   85 |                             77 | None            |                       89 |                                      85 |\n",
            "+---------------+----------+---------+----------------+------+---------------------+-------------------+---------------------+---------------------+-------------------------------+-----------------------------------------------------+---------------------------------------------+---------------------------------------------+----------------------------------+-------------------------------------+------------------------------------+----------------------+--------------------------------------+--------------------------------+-----------------+--------------------------+-----------------------------------------+\n",
            "| 'Sweden'      | 'SWE'    | 'WE/EU' |             85 |    3 | Decimal('1.303953') |                 8 | Decimal('82.86152') | Decimal('87.13848') | None                          |                                                  88 | None                                        |                                          90 | None                             |                                  83 |                                 84 | None                 |                                   93 |                             77 | None            |                       77 |                                      87 |\n",
            "+---------------+----------+---------+----------------+------+---------------------+-------------------+---------------------+---------------------+-------------------------------+-----------------------------------------------------+---------------------------------------------+---------------------------------------------+----------------------------------+-------------------------------------+------------------------------------+----------------------+--------------------------------------+--------------------------------+-----------------+--------------------------+-----------------------------------------+\n",
            "...\n",
            "\n"
          ]
        }
      ]
    },
    {
      "cell_type": "code",
      "metadata": {
        "colab": {
          "base_uri": "https://localhost:8080/"
        },
        "id": "2EM7UqV9xq28",
        "outputId": "5f02c4ae-62bf-4731-cbde-ff9268f8b6c5"
      },
      "source": [
        "cpi_by_country.schema"
      ],
      "execution_count": null,
      "outputs": [
        {
          "output_type": "execute_result",
          "data": {
            "text/plain": [
              "{'fields': [{'name': 'Country', 'type': 'string'},\n",
              "  {'name': 'ISO3', 'type': 'string'},\n",
              "  {'name': 'Region', 'type': 'string'},\n",
              "  {'name': 'CPI score 2020', 'type': 'integer'},\n",
              "  {'name': 'Rank', 'type': 'integer'},\n",
              "  {'name': 'Standard error', 'type': 'number'},\n",
              "  {'name': 'Number of sources', 'type': 'integer'},\n",
              "  {'name': 'Lower CI', 'type': 'number'},\n",
              "  {'name': 'Upper CI', 'type': 'number'},\n",
              "  {'name': 'African Development Bank CPIA', 'type': 'any'},\n",
              "  {'name': 'Bertelsmann Foundation Sustainable Governance Index',\n",
              "   'type': 'any'},\n",
              "  {'name': 'Bertelsmann Foundation Transformation Index', 'type': 'integer'},\n",
              "  {'name': 'Economist Intelligence Unit Country Ratings', 'type': 'integer'},\n",
              "  {'name': 'Freedom House Nations in Transit', 'type': 'integer'},\n",
              "  {'name': 'Global Insight Country Risk Ratings', 'type': 'integer'},\n",
              "  {'name': 'IMD World Competitiveness Yearbook', 'type': 'integer'},\n",
              "  {'name': 'PERC Asia Risk Guide', 'type': 'any'},\n",
              "  {'name': 'PRS International Country Risk Guide', 'type': 'integer'},\n",
              "  {'name': 'Varieties of Democracy Project', 'type': 'integer'},\n",
              "  {'name': 'World Bank CPIA', 'type': 'integer'},\n",
              "  {'name': 'World Economic Forum EOS', 'type': 'integer'},\n",
              "  {'name': 'World Justice Project Rule of Law Index', 'type': 'integer'}]}"
            ]
          },
          "metadata": {},
          "execution_count": 20
        }
      ]
    },
    {
      "cell_type": "markdown",
      "metadata": {
        "id": "IkmqTWv_x4Cc"
      },
      "source": [
        "That's better. Now we can add some additional information to some of the fields, extracted from the [TI report](https://images.transparencycdn.org/images/CPI2020_Report_EN_0802-WEB-1_2021-02-08-103053.pdf), and add a data dictionary to the `Region` field as well."
      ]
    },
    {
      "cell_type": "code",
      "metadata": {
        "id": "IV_NwwdBykAU"
      },
      "source": [
        "cpi_by_country.schema.get_field(\"ISO3\").name = \"ISO31661\""
      ],
      "execution_count": null,
      "outputs": []
    },
    {
      "cell_type": "code",
      "metadata": {
        "id": "5qvzEcLoyz5n"
      },
      "source": [
        "cpi_by_country.schema.get_field(\"Region\").description = \"Acronyms: AME-Americas; AP-Asia Pacific; ECA-Eastern Europe & Central Asia;  MENA: Middle East & North Africa; SSA: Sub-Saharan Africa; WE/EU: Western Europe & European Union\""
      ],
      "execution_count": null,
      "outputs": []
    },
    {
      "cell_type": "code",
      "metadata": {
        "id": "TZq_Hzj75Dit"
      },
      "source": [
        "cpi_by_country.schema.get_field(\"Lower CI\").description = \"Lower bound CPI for all metrics collected, after normalization\"\n",
        "cpi_by_country.schema.get_field(\"Upper CI\").description = \"Upper bound CPI for all metrics collected, after normalization\"\n",
        "cpi_by_country.schema.get_field(\"Number of sources\").description = \"Reflect the number of organizations and metrics used for this country; each country may be evaluated by different organizations, mainly considering their region\""
      ],
      "execution_count": null,
      "outputs": []
    },
    {
      "cell_type": "markdown",
      "metadata": {
        "id": "ZLbUD5ia-MdG"
      },
      "source": [
        "Now we'll see how to generate a schema YAML file, that we can ship together with the actual data files, to explain how the data is exposed in it."
      ]
    },
    {
      "cell_type": "code",
      "metadata": {
        "colab": {
          "base_uri": "https://localhost:8080/",
          "height": 128
        },
        "id": "U6Bei8vr7Yl5",
        "outputId": "508b2656-d116-4666-8a25-d93192dbd3ae"
      },
      "source": [
        "cpi_by_country.schema.to_yaml(\"cpi.schema.yaml\")"
      ],
      "execution_count": null,
      "outputs": [
        {
          "output_type": "execute_result",
          "data": {
            "application/vnd.google.colaboratory.intrinsic+json": {
              "type": "string"
            },
            "text/plain": [
              "\"fields:\\n  - name: Country\\n    type: string\\n  - name: ISO31661\\n    type: string\\n  - description: 'Acronyms: AME-Americas; AP-Asia Pacific; ECA-Eastern Europe & Central\\n      Asia;  MENA: Middle East & North Africa; SSA: Sub-Saharan Africa; WE/EU: Western\\n      Europe & European Union'\\n    name: Region\\n    type: string\\n  - name: CPI score 2020\\n    type: integer\\n  - name: Rank\\n    type: integer\\n  - name: Standard error\\n    type: number\\n  - description: Reflect the number of organizations and metrics used for this country;\\n      each country may be evaluated by different organizations, mainly considering\\n      their region\\n    name: Number of sources\\n    type: integer\\n  - description: Lower bound CPI for all metrics collected, after normalization\\n    name: Lower CI\\n    type: number\\n  - description: Upper bound CPI for all metrics collected, after normalization\\n    name: Upper CI\\n    type: number\\n  - name: African Development Bank CPIA\\n    type: any\\n  - name: Bertelsmann Foundation Sustainable Governance Index\\n    type: any\\n  - name: Bertelsmann Foundation Transformation Index\\n    type: integer\\n  - name: Economist Intelligence Unit Country Ratings\\n    type: integer\\n  - name: Freedom House Nations in Transit\\n    type: integer\\n  - name: Global Insight Country Risk Ratings\\n    type: integer\\n  - name: IMD World Competitiveness Yearbook\\n    type: integer\\n  - name: PERC Asia Risk Guide\\n    type: any\\n  - name: PRS International Country Risk Guide\\n    type: integer\\n  - name: Varieties of Democracy Project\\n    type: integer\\n  - name: World Bank CPIA\\n    type: integer\\n  - name: World Economic Forum EOS\\n    type: integer\\n  - name: World Justice Project Rule of Law Index\\n    type: integer\\n\""
            ]
          },
          "metadata": {},
          "execution_count": 42
        }
      ]
    },
    {
      "cell_type": "code",
      "metadata": {
        "colab": {
          "base_uri": "https://localhost:8080/"
        },
        "id": "d6eSV3RG8TwQ",
        "outputId": "e4f162fb-6d94-4020-ce4f-4ced5e888a27"
      },
      "source": [
        "with open(\"cpi.schema.yaml\") as file:\n",
        "  print(file.read())"
      ],
      "execution_count": null,
      "outputs": [
        {
          "output_type": "stream",
          "name": "stdout",
          "text": [
            "fields:\n",
            "  - name: Country\n",
            "    type: string\n",
            "  - name: ISO31661\n",
            "    type: string\n",
            "  - description: 'Acronyms: AME-Americas; AP-Asia Pacific; ECA-Eastern Europe & Central\n",
            "      Asia;  MENA: Middle East & North Africa; SSA: Sub-Saharan Africa; WE/EU: Western\n",
            "      Europe & European Union'\n",
            "    name: Region\n",
            "    type: string\n",
            "  - name: CPI score 2020\n",
            "    type: integer\n",
            "  - name: Rank\n",
            "    type: integer\n",
            "  - name: Standard error\n",
            "    type: number\n",
            "  - description: Reflect the number of organizations and metrics used for this country;\n",
            "      each country may be evaluated by different organizations, mainly considering\n",
            "      their region\n",
            "    name: Number of sources\n",
            "    type: integer\n",
            "  - description: Lower bound CPI for all metrics collected, after normalization\n",
            "    name: Lower CI\n",
            "    type: number\n",
            "  - description: Upper bound CPI for all metrics collected, after normalization\n",
            "    name: Upper CI\n",
            "    type: number\n",
            "  - name: African Development Bank CPIA\n",
            "    type: any\n",
            "  - name: Bertelsmann Foundation Sustainable Governance Index\n",
            "    type: any\n",
            "  - name: Bertelsmann Foundation Transformation Index\n",
            "    type: integer\n",
            "  - name: Economist Intelligence Unit Country Ratings\n",
            "    type: integer\n",
            "  - name: Freedom House Nations in Transit\n",
            "    type: integer\n",
            "  - name: Global Insight Country Risk Ratings\n",
            "    type: integer\n",
            "  - name: IMD World Competitiveness Yearbook\n",
            "    type: integer\n",
            "  - name: PERC Asia Risk Guide\n",
            "    type: any\n",
            "  - name: PRS International Country Risk Guide\n",
            "    type: integer\n",
            "  - name: Varieties of Democracy Project\n",
            "    type: integer\n",
            "  - name: World Bank CPIA\n",
            "    type: integer\n",
            "  - name: World Economic Forum EOS\n",
            "    type: integer\n",
            "  - name: World Justice Project Rule of Law Index\n",
            "    type: integer\n",
            "\n"
          ]
        }
      ]
    },
    {
      "cell_type": "markdown",
      "metadata": {
        "id": "emq2Z4dQ-ZLh"
      },
      "source": [
        "We should also describe the data file itself."
      ]
    },
    {
      "cell_type": "code",
      "metadata": {
        "colab": {
          "base_uri": "https://localhost:8080/",
          "height": 128
        },
        "id": "F4skmkT18j8G",
        "outputId": "e491a14b-9458-4713-dafe-f5fba728b2d7"
      },
      "source": [
        "cpi_by_country.to_yaml(\"cpi.resource.yaml\")"
      ],
      "execution_count": null,
      "outputs": [
        {
          "output_type": "execute_result",
          "data": {
            "application/vnd.google.colaboratory.intrinsic+json": {
              "type": "string"
            },
            "text/plain": [
              "\"encoding: utf-8\\nformat: xlsx\\nhashing: md5\\nlayout:\\n  headerRows:\\n    - 3\\nname: cpi2020_globaltablests_210125-excel\\npath: CPI2020_GlobalTablesTS_210125-Excel.xlsx\\nprofile: tabular-data-resource\\nschema:\\n  fields:\\n    - name: Country\\n      type: string\\n    - name: ISO31661\\n      type: string\\n    - description: 'Acronyms: AME-Americas; AP-Asia Pacific; ECA-Eastern Europe &\\n        Central Asia;  MENA: Middle East & North Africa; SSA: Sub-Saharan Africa;\\n        WE/EU: Western Europe & European Union'\\n      name: Region\\n      type: string\\n    - name: CPI score 2020\\n      type: integer\\n    - name: Rank\\n      type: integer\\n    - name: Standard error\\n      type: number\\n    - description: Reflect the number of organizations and metrics used for this country;\\n        each country may be evaluated by different organizations, mainly considering\\n        their region\\n      name: Number of sources\\n      type: integer\\n    - description: Lower bound CPI for all metrics collected, after normalization\\n      name: Lower CI\\n      type: number\\n    - description: Upper bound CPI for all metrics collected, after normalization\\n      name: Upper CI\\n      type: number\\n    - name: African Development Bank CPIA\\n      type: any\\n    - name: Bertelsmann Foundation Sustainable Governance Index\\n      type: any\\n    - name: Bertelsmann Foundation Transformation Index\\n      type: integer\\n    - name: Economist Intelligence Unit Country Ratings\\n      type: integer\\n    - name: Freedom House Nations in Transit\\n      type: integer\\n    - name: Global Insight Country Risk Ratings\\n      type: integer\\n    - name: IMD World Competitiveness Yearbook\\n      type: integer\\n    - name: PERC Asia Risk Guide\\n      type: any\\n    - name: PRS International Country Risk Guide\\n      type: integer\\n    - name: Varieties of Democracy Project\\n      type: integer\\n    - name: World Bank CPIA\\n      type: integer\\n    - name: World Economic Forum EOS\\n      type: integer\\n    - name: World Justice Project Rule of Law Index\\n      type: integer\\nscheme: file\\nstats:\\n  bytes: 0\\n  fields: 22\\n  hash: ''\\n  rows: 180\\n\""
            ]
          },
          "metadata": {},
          "execution_count": 44
        }
      ]
    },
    {
      "cell_type": "code",
      "metadata": {
        "colab": {
          "base_uri": "https://localhost:8080/"
        },
        "id": "S-W3RzuZ85dA",
        "outputId": "13ca234d-0084-4d2b-be39-ea2b4d5ef761"
      },
      "source": [
        "with open(\"cpi.resource.yaml\") as file:\n",
        "  print(file.read())"
      ],
      "execution_count": null,
      "outputs": [
        {
          "output_type": "stream",
          "name": "stdout",
          "text": [
            "encoding: utf-8\n",
            "format: xlsx\n",
            "hashing: md5\n",
            "layout:\n",
            "  headerRows:\n",
            "    - 3\n",
            "name: cpi2020_globaltablests_210125-excel\n",
            "path: CPI2020_GlobalTablesTS_210125-Excel.xlsx\n",
            "profile: tabular-data-resource\n",
            "schema:\n",
            "  fields:\n",
            "    - name: Country\n",
            "      type: string\n",
            "    - name: ISO31661\n",
            "      type: string\n",
            "    - description: 'Acronyms: AME-Americas; AP-Asia Pacific; ECA-Eastern Europe &\n",
            "        Central Asia;  MENA: Middle East & North Africa; SSA: Sub-Saharan Africa;\n",
            "        WE/EU: Western Europe & European Union'\n",
            "      name: Region\n",
            "      type: string\n",
            "    - name: CPI score 2020\n",
            "      type: integer\n",
            "    - name: Rank\n",
            "      type: integer\n",
            "    - name: Standard error\n",
            "      type: number\n",
            "    - description: Reflect the number of organizations and metrics used for this country;\n",
            "        each country may be evaluated by different organizations, mainly considering\n",
            "        their region\n",
            "      name: Number of sources\n",
            "      type: integer\n",
            "    - description: Lower bound CPI for all metrics collected, after normalization\n",
            "      name: Lower CI\n",
            "      type: number\n",
            "    - description: Upper bound CPI for all metrics collected, after normalization\n",
            "      name: Upper CI\n",
            "      type: number\n",
            "    - name: African Development Bank CPIA\n",
            "      type: any\n",
            "    - name: Bertelsmann Foundation Sustainable Governance Index\n",
            "      type: any\n",
            "    - name: Bertelsmann Foundation Transformation Index\n",
            "      type: integer\n",
            "    - name: Economist Intelligence Unit Country Ratings\n",
            "      type: integer\n",
            "    - name: Freedom House Nations in Transit\n",
            "      type: integer\n",
            "    - name: Global Insight Country Risk Ratings\n",
            "      type: integer\n",
            "    - name: IMD World Competitiveness Yearbook\n",
            "      type: integer\n",
            "    - name: PERC Asia Risk Guide\n",
            "      type: any\n",
            "    - name: PRS International Country Risk Guide\n",
            "      type: integer\n",
            "    - name: Varieties of Democracy Project\n",
            "      type: integer\n",
            "    - name: World Bank CPIA\n",
            "      type: integer\n",
            "    - name: World Economic Forum EOS\n",
            "      type: integer\n",
            "    - name: World Justice Project Rule of Law Index\n",
            "      type: integer\n",
            "scheme: file\n",
            "stats:\n",
            "  bytes: 0\n",
            "  fields: 22\n",
            "  hash: ''\n",
            "  rows: 180\n",
            "\n"
          ]
        }
      ]
    },
    {
      "cell_type": "markdown",
      "metadata": {
        "id": "pHNzK9uDDSeK"
      },
      "source": [
        "## Step 4. Loading additional Excel sheets"
      ]
    },
    {
      "cell_type": "markdown",
      "metadata": {
        "id": "QjN219Lz-nLe"
      },
      "source": [
        "But the original Excel workbook has more than just one sheet. There's a second one, for the data summarized history (timeseries) since 2012. We can add the description of it as well, and then package the entire set of files, which would be a data package, containing several data resources."
      ]
    },
    {
      "cell_type": "code",
      "metadata": {
        "id": "G20fMmHu-lpg"
      },
      "source": [
        "cpi_timeseries = Resource(path='CPI2020_GlobalTablesTS_210125-Excel.xlsx', dialect=ExcelDialect(sheet='CPI Timeseries 2012 - 2020'))\n",
        "cpi_timeseries.layout.header_rows = [3]"
      ],
      "execution_count": null,
      "outputs": []
    },
    {
      "cell_type": "code",
      "metadata": {
        "colab": {
          "base_uri": "https://localhost:8080/"
        },
        "id": "tdKVvueRAuP0",
        "outputId": "1b77dc20-50ca-4939-e571-62ab40f2e7be"
      },
      "source": [
        "print(cpi_timeseries.to_view())"
      ],
      "execution_count": null,
      "outputs": [
        {
          "output_type": "stream",
          "name": "stdout",
          "text": [
            "+---------------+-------+---------+----------------+-----------+--------------+---------------------+----------------+-----------+--------------+---------------------+----------------+-----------+--------------+---------------------+----------------+-----------+--------------+---------------------+----------------+--------------+---------------------+----------------+--------------+---------------------+----------------+--------------+---------------------+----------------+--------------+---------------------+----------------+--------------+---------------------+\n",
            "| Country       | ISO3  | Region  | CPI score 2020 | Rank 2020 | Sources 2020 | Standard error 2020 | CPI score 2019 | Rank 2019 | Sources 2019 | Standard error 2019 | CPI score 2018 | Rank 2018 | Sources 2018 | Standard error 2018 | CPI score 2017 | Rank 2017 | Sources 2017 | Standard error 2017 | CPI score 2016 | Sources 2016 | Standard error 2016 | CPI score 2015 | Sources 2015 | Standard error 2015 | CPI score 2014 | Sources 2014 | Standard error 2014 | CPI Score 2013 | Sources 2013 | Standard error 2013 | CPI Score 2012 | Sources 2012 | Standard error 2012 |\n",
            "+===============+=======+=========+================+===========+==============+=====================+================+===========+==============+=====================+================+===========+==============+=====================+================+===========+==============+=====================+================+==============+=====================+================+==============+=====================+================+==============+=====================+================+==============+=====================+================+==============+=====================+\n",
            "| 'Denmark'     | 'DNK' | 'WE/EU' |             88 |         1 |            8 | Decimal('1.775809') |             87 |         1 |            8 | Decimal('2.542474') |             88 |         1 |            8 | Decimal('2.63')     |             88 |         2 |            8 | Decimal('2.75')     |             90 |            7 | Decimal('2.46')     |             91 |            7 | Decimal('2.16')     |             92 |            7 | Decimal('2.04')     |             91 |            7 | Decimal('2.2')      |             90 |            7 |                   2 |\n",
            "+---------------+-------+---------+----------------+-----------+--------------+---------------------+----------------+-----------+--------------+---------------------+----------------+-----------+--------------+---------------------+----------------+-----------+--------------+---------------------+----------------+--------------+---------------------+----------------+--------------+---------------------+----------------+--------------+---------------------+----------------+--------------+---------------------+----------------+--------------+---------------------+\n",
            "| 'New Zealand' | 'NZL' | 'AP'    |             88 |         1 |            8 | Decimal('1.479342') |             87 |         1 |            8 | Decimal('2.28649')  |             87 |         2 |            8 | Decimal('2.44')     |             89 |         1 |            8 | Decimal('2.4')      |             90 |            7 | Decimal('2.56')     |             91 |            7 | Decimal('2.32')     |             91 |            7 | Decimal('2.28')     |             91 |            7 | Decimal('2.3')      |             90 |            7 | Decimal('2.2')      |\n",
            "+---------------+-------+---------+----------------+-----------+--------------+---------------------+----------------+-----------+--------------+---------------------+----------------+-----------+--------------+---------------------+----------------+-----------+--------------+---------------------+----------------+--------------+---------------------+----------------+--------------+---------------------+----------------+--------------+---------------------+----------------+--------------+---------------------+----------------+--------------+---------------------+\n",
            "| 'Finland'     | 'FIN' | 'WE/EU' |             85 |         3 |            8 | Decimal('1.748594') |             86 |         3 |            8 | Decimal('2.924511') |             85 |         3 |            8 | Decimal('2.74')     |             85 |         3 |            8 | Decimal('2.84')     |             89 |            7 | Decimal('1.46')     |             90 |            7 | Decimal('1.77')     |             89 |            7 | Decimal('2.05')     |             89 |            7 | Decimal('1.7')      |             90 |            7 |                   3 |\n",
            "+---------------+-------+---------+----------------+-----------+--------------+---------------------+----------------+-----------+--------------+---------------------+----------------+-----------+--------------+---------------------+----------------+-----------+--------------+---------------------+----------------+--------------+---------------------+----------------+--------------+---------------------+----------------+--------------+---------------------+----------------+--------------+---------------------+----------------+--------------+---------------------+\n",
            "| 'Singapore'   | 'SGP' | 'AP'    |             85 |         3 |            9 | Decimal('1.203239') |             85 |         4 |            9 | Decimal('2.0484')   |             85 |         3 |            9 | Decimal('1.98')     |             84 |         6 |            9 | Decimal('2.26')     |             84 |            8 | Decimal('2.35')     |             85 |            8 | Decimal('2.02')     |             84 |            8 | Decimal('1.75')     |             86 |            9 | Decimal('2.3')      |             87 |            9 | Decimal('2.1')      |\n",
            "+---------------+-------+---------+----------------+-----------+--------------+---------------------+----------------+-----------+--------------+---------------------+----------------+-----------+--------------+---------------------+----------------+-----------+--------------+---------------------+----------------+--------------+---------------------+----------------+--------------+---------------------+----------------+--------------+---------------------+----------------+--------------+---------------------+----------------+--------------+---------------------+\n",
            "| 'Sweden'      | 'SWE' | 'WE/EU' |             85 |         3 |            8 | Decimal('1.303953') |             85 |         4 |            8 | Decimal('1.977693') |             85 |         3 |            8 | Decimal('2.02')     |             84 |         6 |            8 | Decimal('2.27')     |             88 |            7 | Decimal('1.33')     |             89 |            7 | Decimal('1.71')     |             87 |            7 | Decimal('3.41')     |             89 |            7 | Decimal('2.3')      |             88 |            7 | Decimal('1.9')      |\n",
            "+---------------+-------+---------+----------------+-----------+--------------+---------------------+----------------+-----------+--------------+---------------------+----------------+-----------+--------------+---------------------+----------------+-----------+--------------+---------------------+----------------+--------------+---------------------+----------------+--------------+---------------------+----------------+--------------+---------------------+----------------+--------------+---------------------+----------------+--------------+---------------------+\n",
            "...\n",
            "\n"
          ]
        }
      ]
    },
    {
      "cell_type": "markdown",
      "metadata": {
        "id": "rvl-C0AJBv4o"
      },
      "source": [
        "Good-looking data and fields. Let's just fix the same details as in the sheet before, so we can create the descriptors."
      ]
    },
    {
      "cell_type": "code",
      "metadata": {
        "id": "68RSV96VCAfr"
      },
      "source": [
        "cpi_timeseries.schema.get_field(\"ISO3\").name = \"ISO31661\"\n",
        "cpi_timeseries.schema.get_field(\"Region\").description = \"Acronyms: AME-Americas; AP-Asia Pacific; ECA-Eastern Europe & Central Asia;  MENA: Middle East & North Africa; SSA: Sub-Saharan Africa; WE/EU: Western Europe & European Union\""
      ],
      "execution_count": null,
      "outputs": []
    },
    {
      "cell_type": "code",
      "metadata": {
        "colab": {
          "base_uri": "https://localhost:8080/",
          "height": 128
        },
        "id": "_bL-R8eCCSBY",
        "outputId": "d6056b33-57f4-4e89-d49d-6671a9d1aedd"
      },
      "source": [
        "cpi_timeseries.schema.to_yaml(\"cpi_timeseries.schema.yaml\")\n",
        "cpi_timeseries.to_yaml(\"cpi_timeseries.resource.yaml\")"
      ],
      "execution_count": null,
      "outputs": [
        {
          "output_type": "execute_result",
          "data": {
            "application/vnd.google.colaboratory.intrinsic+json": {
              "type": "string"
            },
            "text/plain": [
              "\"dialect:\\n  sheet: CPI Timeseries 2012 - 2020\\nencoding: utf-8\\nformat: xlsx\\nhashing: md5\\nlayout:\\n  headerRows:\\n    - 3\\nname: cpi2020_globaltablests_210125-excel\\npath: CPI2020_GlobalTablesTS_210125-Excel.xlsx\\nprofile: tabular-data-resource\\nschema:\\n  fields:\\n    - name: Country\\n      type: string\\n    - name: ISO31661\\n      type: string\\n    - description: 'Acronyms: AME-Americas; AP-Asia Pacific; ECA-Eastern Europe &\\n        Central Asia;  MENA: Middle East & North Africa; SSA: Sub-Saharan Africa;\\n        WE/EU: Western Europe & European Union'\\n      name: Region\\n      type: string\\n    - name: CPI score 2020\\n      type: integer\\n    - name: Rank 2020\\n      type: integer\\n    - name: Sources 2020\\n      type: integer\\n    - name: Standard error 2020\\n      type: number\\n    - name: CPI score 2019\\n      type: integer\\n    - name: Rank 2019\\n      type: integer\\n    - name: Sources 2019\\n      type: integer\\n    - name: Standard error 2019\\n      type: number\\n    - name: CPI score 2018\\n      type: integer\\n    - name: Rank 2018\\n      type: integer\\n    - name: Sources 2018\\n      type: integer\\n    - name: Standard error 2018\\n      type: number\\n    - name: CPI score 2017\\n      type: integer\\n    - name: Rank 2017\\n      type: integer\\n    - name: Sources 2017\\n      type: integer\\n    - name: Standard error 2017\\n      type: number\\n    - name: CPI score 2016\\n      type: integer\\n    - name: Sources 2016\\n      type: integer\\n    - name: Standard error 2016\\n      type: number\\n    - name: CPI score 2015\\n      type: integer\\n    - name: Sources 2015\\n      type: integer\\n    - name: Standard error 2015\\n      type: number\\n    - name: CPI score 2014\\n      type: integer\\n    - name: Sources 2014\\n      type: integer\\n    - name: Standard error 2014\\n      type: number\\n    - name: CPI Score 2013\\n      type: integer\\n    - name: Sources 2013\\n      type: integer\\n    - name: Standard error 2013\\n      type: number\\n    - name: CPI Score 2012\\n      type: integer\\n    - name: Sources 2012\\n      type: integer\\n    - name: Standard error 2012\\n      type: number\\nscheme: file\\nstats:\\n  bytes: 0\\n  fields: 34\\n  hash: ''\\n  rows: 180\\n\""
            ]
          },
          "metadata": {},
          "execution_count": 59
        }
      ]
    },
    {
      "cell_type": "markdown",
      "metadata": {
        "id": "h2bWaW6hCc6s"
      },
      "source": [
        "And let's take a look how the generated YAML files look like:"
      ]
    },
    {
      "cell_type": "code",
      "metadata": {
        "colab": {
          "base_uri": "https://localhost:8080/"
        },
        "id": "TRJuVdUFCjJo",
        "outputId": "2517ee9f-bc59-4f52-ca8f-f53e6f4e620f"
      },
      "source": [
        "print (\"Resource:\")\n",
        "with open(\"cpi_timeseries.resource.yaml\") as file:\n",
        "  print(file.read())\n",
        "\n",
        "print (\"Schema:\")\n",
        "with open(\"cpi_timeseries.resource.yaml\") as file:\n",
        "  print(file.read())"
      ],
      "execution_count": null,
      "outputs": [
        {
          "output_type": "stream",
          "name": "stdout",
          "text": [
            "Resource:\n",
            "dialect:\n",
            "  sheet: CPI Timeseries 2012 - 2020\n",
            "encoding: utf-8\n",
            "format: xlsx\n",
            "hashing: md5\n",
            "layout:\n",
            "  headerRows:\n",
            "    - 3\n",
            "name: cpi2020_globaltablests_210125-excel\n",
            "path: CPI2020_GlobalTablesTS_210125-Excel.xlsx\n",
            "profile: tabular-data-resource\n",
            "schema:\n",
            "  fields:\n",
            "    - name: Country\n",
            "      type: string\n",
            "    - name: ISO31661\n",
            "      type: string\n",
            "    - description: 'Acronyms: AME-Americas; AP-Asia Pacific; ECA-Eastern Europe &\n",
            "        Central Asia;  MENA: Middle East & North Africa; SSA: Sub-Saharan Africa;\n",
            "        WE/EU: Western Europe & European Union'\n",
            "      name: Region\n",
            "      type: string\n",
            "    - name: CPI score 2020\n",
            "      type: integer\n",
            "    - name: Rank 2020\n",
            "      type: integer\n",
            "    - name: Sources 2020\n",
            "      type: integer\n",
            "    - name: Standard error 2020\n",
            "      type: number\n",
            "    - name: CPI score 2019\n",
            "      type: integer\n",
            "    - name: Rank 2019\n",
            "      type: integer\n",
            "    - name: Sources 2019\n",
            "      type: integer\n",
            "    - name: Standard error 2019\n",
            "      type: number\n",
            "    - name: CPI score 2018\n",
            "      type: integer\n",
            "    - name: Rank 2018\n",
            "      type: integer\n",
            "    - name: Sources 2018\n",
            "      type: integer\n",
            "    - name: Standard error 2018\n",
            "      type: number\n",
            "    - name: CPI score 2017\n",
            "      type: integer\n",
            "    - name: Rank 2017\n",
            "      type: integer\n",
            "    - name: Sources 2017\n",
            "      type: integer\n",
            "    - name: Standard error 2017\n",
            "      type: number\n",
            "    - name: CPI score 2016\n",
            "      type: integer\n",
            "    - name: Sources 2016\n",
            "      type: integer\n",
            "    - name: Standard error 2016\n",
            "      type: number\n",
            "    - name: CPI score 2015\n",
            "      type: integer\n",
            "    - name: Sources 2015\n",
            "      type: integer\n",
            "    - name: Standard error 2015\n",
            "      type: number\n",
            "    - name: CPI score 2014\n",
            "      type: integer\n",
            "    - name: Sources 2014\n",
            "      type: integer\n",
            "    - name: Standard error 2014\n",
            "      type: number\n",
            "    - name: CPI Score 2013\n",
            "      type: integer\n",
            "    - name: Sources 2013\n",
            "      type: integer\n",
            "    - name: Standard error 2013\n",
            "      type: number\n",
            "    - name: CPI Score 2012\n",
            "      type: integer\n",
            "    - name: Sources 2012\n",
            "      type: integer\n",
            "    - name: Standard error 2012\n",
            "      type: number\n",
            "scheme: file\n",
            "stats:\n",
            "  bytes: 0\n",
            "  fields: 34\n",
            "  hash: ''\n",
            "  rows: 180\n",
            "\n",
            "Schema:\n",
            "dialect:\n",
            "  sheet: CPI Timeseries 2012 - 2020\n",
            "encoding: utf-8\n",
            "format: xlsx\n",
            "hashing: md5\n",
            "layout:\n",
            "  headerRows:\n",
            "    - 3\n",
            "name: cpi2020_globaltablests_210125-excel\n",
            "path: CPI2020_GlobalTablesTS_210125-Excel.xlsx\n",
            "profile: tabular-data-resource\n",
            "schema:\n",
            "  fields:\n",
            "    - name: Country\n",
            "      type: string\n",
            "    - name: ISO31661\n",
            "      type: string\n",
            "    - description: 'Acronyms: AME-Americas; AP-Asia Pacific; ECA-Eastern Europe &\n",
            "        Central Asia;  MENA: Middle East & North Africa; SSA: Sub-Saharan Africa;\n",
            "        WE/EU: Western Europe & European Union'\n",
            "      name: Region\n",
            "      type: string\n",
            "    - name: CPI score 2020\n",
            "      type: integer\n",
            "    - name: Rank 2020\n",
            "      type: integer\n",
            "    - name: Sources 2020\n",
            "      type: integer\n",
            "    - name: Standard error 2020\n",
            "      type: number\n",
            "    - name: CPI score 2019\n",
            "      type: integer\n",
            "    - name: Rank 2019\n",
            "      type: integer\n",
            "    - name: Sources 2019\n",
            "      type: integer\n",
            "    - name: Standard error 2019\n",
            "      type: number\n",
            "    - name: CPI score 2018\n",
            "      type: integer\n",
            "    - name: Rank 2018\n",
            "      type: integer\n",
            "    - name: Sources 2018\n",
            "      type: integer\n",
            "    - name: Standard error 2018\n",
            "      type: number\n",
            "    - name: CPI score 2017\n",
            "      type: integer\n",
            "    - name: Rank 2017\n",
            "      type: integer\n",
            "    - name: Sources 2017\n",
            "      type: integer\n",
            "    - name: Standard error 2017\n",
            "      type: number\n",
            "    - name: CPI score 2016\n",
            "      type: integer\n",
            "    - name: Sources 2016\n",
            "      type: integer\n",
            "    - name: Standard error 2016\n",
            "      type: number\n",
            "    - name: CPI score 2015\n",
            "      type: integer\n",
            "    - name: Sources 2015\n",
            "      type: integer\n",
            "    - name: Standard error 2015\n",
            "      type: number\n",
            "    - name: CPI score 2014\n",
            "      type: integer\n",
            "    - name: Sources 2014\n",
            "      type: integer\n",
            "    - name: Standard error 2014\n",
            "      type: number\n",
            "    - name: CPI Score 2013\n",
            "      type: integer\n",
            "    - name: Sources 2013\n",
            "      type: integer\n",
            "    - name: Standard error 2013\n",
            "      type: number\n",
            "    - name: CPI Score 2012\n",
            "      type: integer\n",
            "    - name: Sources 2012\n",
            "      type: integer\n",
            "    - name: Standard error 2012\n",
            "      type: number\n",
            "scheme: file\n",
            "stats:\n",
            "  bytes: 0\n",
            "  fields: 34\n",
            "  hash: ''\n",
            "  rows: 180\n",
            "\n"
          ]
        }
      ]
    },
    {
      "cell_type": "markdown",
      "metadata": {
        "id": "Y7zn4dY5EVhG"
      },
      "source": [
        "## Step 5. Creating a package\n",
        "\n",
        "Let's say we want to ship the data now. This will be a package, a container of data -- it has the data itself, plus standard frictionless descriptors, so everybody knows how the data is presented."
      ]
    },
    {
      "cell_type": "markdown",
      "metadata": {
        "id": "rqBpA18DE_4f"
      },
      "source": [
        "We have currently the files below -- the Excel data file, and two descriptors, one for each of the sheets."
      ]
    },
    {
      "cell_type": "code",
      "metadata": {
        "colab": {
          "base_uri": "https://localhost:8080/"
        },
        "id": "305mZKx-DrzN",
        "outputId": "38a94e24-4eea-48cc-cef6-11c6be5a679a"
      },
      "source": [
        "import os\n",
        "\n",
        "files = [f for f in os.listdir('.') if os.path.isfile(f)]\n",
        "print(files)"
      ],
      "execution_count": null,
      "outputs": [
        {
          "output_type": "stream",
          "name": "stdout",
          "text": [
            "['cpi_timeseries.resource.yaml', 'cpi.schema.yaml', 'cpi.resource.yaml', 'cpi_timeseries.schema.yaml', 'CPI2020_GlobalTablesTS_210125-Excel.xlsx']\n"
          ]
        }
      ]
    },
    {
      "cell_type": "code",
      "metadata": {
        "colab": {
          "base_uri": "https://localhost:8080/",
          "height": 128
        },
        "id": "TmfoavEZRu0r",
        "outputId": "4d29e6b9-2633-4f20-e964-3b77e1d3db99"
      },
      "source": [
        "package = Package(resources=[cpi_by_country, cpi_timeseries])\n",
        "package.to_yaml(\"cpi.package.yaml\")"
      ],
      "execution_count": null,
      "outputs": [
        {
          "output_type": "execute_result",
          "data": {
            "application/vnd.google.colaboratory.intrinsic+json": {
              "type": "string"
            },
            "text/plain": [
              "\"resources:\\n  - encoding: utf-8\\n    format: xlsx\\n    hashing: md5\\n    layout:\\n      headerRows:\\n        - 3\\n    name: cpi2020_globaltablests_210125-excel\\n    path: CPI2020_GlobalTablesTS_210125-Excel.xlsx\\n    profile: tabular-data-resource\\n    schema:\\n      fields:\\n        - name: Country\\n          type: string\\n        - name: ISO31661\\n          type: string\\n        - description: 'Acronyms: AME-Americas; AP-Asia Pacific; ECA-Eastern Europe\\n            & Central Asia;  MENA: Middle East & North Africa; SSA: Sub-Saharan Africa;\\n            WE/EU: Western Europe & European Union'\\n          name: Region\\n          type: string\\n        - name: CPI score 2020\\n          type: integer\\n        - name: Rank\\n          type: integer\\n        - name: Standard error\\n          type: number\\n        - description: Reflect the number of organizations and metrics used for this\\n            country; each country may be evaluated by different organizations, mainly\\n            considering their region\\n          name: Number of sources\\n          type: integer\\n        - description: Lower bound CPI for all metrics collected, after normalization\\n          name: Lower CI\\n          type: number\\n        - description: Upper bound CPI for all metrics collected, after normalization\\n          name: Upper CI\\n          type: number\\n        - name: African Development Bank CPIA\\n          type: any\\n        - name: Bertelsmann Foundation Sustainable Governance Index\\n          type: any\\n        - name: Bertelsmann Foundation Transformation Index\\n          type: integer\\n        - name: Economist Intelligence Unit Country Ratings\\n          type: integer\\n        - name: Freedom House Nations in Transit\\n          type: integer\\n        - name: Global Insight Country Risk Ratings\\n          type: integer\\n        - name: IMD World Competitiveness Yearbook\\n          type: integer\\n        - name: PERC Asia Risk Guide\\n          type: any\\n        - name: PRS International Country Risk Guide\\n          type: integer\\n        - name: Varieties of Democracy Project\\n          type: integer\\n        - name: World Bank CPIA\\n          type: integer\\n        - name: World Economic Forum EOS\\n          type: integer\\n        - name: World Justice Project Rule of Law Index\\n          type: integer\\n    scheme: file\\n    stats:\\n      bytes: 0\\n      fields: 22\\n      hash: ''\\n      rows: 180\\n  - dialect:\\n      sheet: CPI Timeseries 2012 - 2020\\n    encoding: utf-8\\n    format: xlsx\\n    hashing: md5\\n    layout:\\n      headerRows:\\n        - 3\\n    name: cpi2020_globaltablests_210125-excel\\n    path: CPI2020_GlobalTablesTS_210125-Excel.xlsx\\n    profile: tabular-data-resource\\n    schema:\\n      fields:\\n        - name: Country\\n          type: string\\n        - name: ISO31661\\n          type: string\\n        - description: 'Acronyms: AME-Americas; AP-Asia Pacific; ECA-Eastern Europe\\n            & Central Asia;  MENA: Middle East & North Africa; SSA: Sub-Saharan Africa;\\n            WE/EU: Western Europe & European Union'\\n          name: Region\\n          type: string\\n        - name: CPI score 2020\\n          type: integer\\n        - name: Rank 2020\\n          type: integer\\n        - name: Sources 2020\\n          type: integer\\n        - name: Standard error 2020\\n          type: number\\n        - name: CPI score 2019\\n          type: integer\\n        - name: Rank 2019\\n          type: integer\\n        - name: Sources 2019\\n          type: integer\\n        - name: Standard error 2019\\n          type: number\\n        - name: CPI score 2018\\n          type: integer\\n        - name: Rank 2018\\n          type: integer\\n        - name: Sources 2018\\n          type: integer\\n        - name: Standard error 2018\\n          type: number\\n        - name: CPI score 2017\\n          type: integer\\n        - name: Rank 2017\\n          type: integer\\n        - name: Sources 2017\\n          type: integer\\n        - name: Standard error 2017\\n          type: number\\n        - name: CPI score 2016\\n          type: integer\\n        - name: Sources 2016\\n          type: integer\\n        - name: Standard error 2016\\n          type: number\\n        - name: CPI score 2015\\n          type: integer\\n        - name: Sources 2015\\n          type: integer\\n        - name: Standard error 2015\\n          type: number\\n        - name: CPI score 2014\\n          type: integer\\n        - name: Sources 2014\\n          type: integer\\n        - name: Standard error 2014\\n          type: number\\n        - name: CPI Score 2013\\n          type: integer\\n        - name: Sources 2013\\n          type: integer\\n        - name: Standard error 2013\\n          type: number\\n        - name: CPI Score 2012\\n          type: integer\\n        - name: Sources 2012\\n          type: integer\\n        - name: Standard error 2012\\n          type: number\\n    scheme: file\\n    stats:\\n      bytes: 0\\n      fields: 34\\n      hash: ''\\n      rows: 180\\n\""
            ]
          },
          "metadata": {},
          "execution_count": 71
        }
      ]
    },
    {
      "cell_type": "markdown",
      "metadata": {
        "id": "fiV3Ld6BSeJj"
      },
      "source": [
        "And this is our package descriptor content:"
      ]
    },
    {
      "cell_type": "code",
      "metadata": {
        "colab": {
          "base_uri": "https://localhost:8080/"
        },
        "id": "XmxcbY-8SKjp",
        "outputId": "492e17c0-6122-49eb-e1b5-57de41b1fcb9"
      },
      "source": [
        "with open(\"cpi.package.yaml\") as file:\n",
        "  print(file.read())"
      ],
      "execution_count": null,
      "outputs": [
        {
          "output_type": "stream",
          "name": "stdout",
          "text": [
            "resources:\n",
            "  - encoding: utf-8\n",
            "    format: xlsx\n",
            "    hashing: md5\n",
            "    layout:\n",
            "      headerRows:\n",
            "        - 3\n",
            "    name: cpi2020_globaltablests_210125-excel\n",
            "    path: CPI2020_GlobalTablesTS_210125-Excel.xlsx\n",
            "    profile: tabular-data-resource\n",
            "    schema:\n",
            "      fields:\n",
            "        - name: Country\n",
            "          type: string\n",
            "        - name: ISO31661\n",
            "          type: string\n",
            "        - description: 'Acronyms: AME-Americas; AP-Asia Pacific; ECA-Eastern Europe\n",
            "            & Central Asia;  MENA: Middle East & North Africa; SSA: Sub-Saharan Africa;\n",
            "            WE/EU: Western Europe & European Union'\n",
            "          name: Region\n",
            "          type: string\n",
            "        - name: CPI score 2020\n",
            "          type: integer\n",
            "        - name: Rank\n",
            "          type: integer\n",
            "        - name: Standard error\n",
            "          type: number\n",
            "        - description: Reflect the number of organizations and metrics used for this\n",
            "            country; each country may be evaluated by different organizations, mainly\n",
            "            considering their region\n",
            "          name: Number of sources\n",
            "          type: integer\n",
            "        - description: Lower bound CPI for all metrics collected, after normalization\n",
            "          name: Lower CI\n",
            "          type: number\n",
            "        - description: Upper bound CPI for all metrics collected, after normalization\n",
            "          name: Upper CI\n",
            "          type: number\n",
            "        - name: African Development Bank CPIA\n",
            "          type: any\n",
            "        - name: Bertelsmann Foundation Sustainable Governance Index\n",
            "          type: any\n",
            "        - name: Bertelsmann Foundation Transformation Index\n",
            "          type: integer\n",
            "        - name: Economist Intelligence Unit Country Ratings\n",
            "          type: integer\n",
            "        - name: Freedom House Nations in Transit\n",
            "          type: integer\n",
            "        - name: Global Insight Country Risk Ratings\n",
            "          type: integer\n",
            "        - name: IMD World Competitiveness Yearbook\n",
            "          type: integer\n",
            "        - name: PERC Asia Risk Guide\n",
            "          type: any\n",
            "        - name: PRS International Country Risk Guide\n",
            "          type: integer\n",
            "        - name: Varieties of Democracy Project\n",
            "          type: integer\n",
            "        - name: World Bank CPIA\n",
            "          type: integer\n",
            "        - name: World Economic Forum EOS\n",
            "          type: integer\n",
            "        - name: World Justice Project Rule of Law Index\n",
            "          type: integer\n",
            "    scheme: file\n",
            "    stats:\n",
            "      bytes: 0\n",
            "      fields: 22\n",
            "      hash: ''\n",
            "      rows: 180\n",
            "  - dialect:\n",
            "      sheet: CPI Timeseries 2012 - 2020\n",
            "    encoding: utf-8\n",
            "    format: xlsx\n",
            "    hashing: md5\n",
            "    layout:\n",
            "      headerRows:\n",
            "        - 3\n",
            "    name: cpi2020_globaltablests_210125-excel\n",
            "    path: CPI2020_GlobalTablesTS_210125-Excel.xlsx\n",
            "    profile: tabular-data-resource\n",
            "    schema:\n",
            "      fields:\n",
            "        - name: Country\n",
            "          type: string\n",
            "        - name: ISO31661\n",
            "          type: string\n",
            "        - description: 'Acronyms: AME-Americas; AP-Asia Pacific; ECA-Eastern Europe\n",
            "            & Central Asia;  MENA: Middle East & North Africa; SSA: Sub-Saharan Africa;\n",
            "            WE/EU: Western Europe & European Union'\n",
            "          name: Region\n",
            "          type: string\n",
            "        - name: CPI score 2020\n",
            "          type: integer\n",
            "        - name: Rank 2020\n",
            "          type: integer\n",
            "        - name: Sources 2020\n",
            "          type: integer\n",
            "        - name: Standard error 2020\n",
            "          type: number\n",
            "        - name: CPI score 2019\n",
            "          type: integer\n",
            "        - name: Rank 2019\n",
            "          type: integer\n",
            "        - name: Sources 2019\n",
            "          type: integer\n",
            "        - name: Standard error 2019\n",
            "          type: number\n",
            "        - name: CPI score 2018\n",
            "          type: integer\n",
            "        - name: Rank 2018\n",
            "          type: integer\n",
            "        - name: Sources 2018\n",
            "          type: integer\n",
            "        - name: Standard error 2018\n",
            "          type: number\n",
            "        - name: CPI score 2017\n",
            "          type: integer\n",
            "        - name: Rank 2017\n",
            "          type: integer\n",
            "        - name: Sources 2017\n",
            "          type: integer\n",
            "        - name: Standard error 2017\n",
            "          type: number\n",
            "        - name: CPI score 2016\n",
            "          type: integer\n",
            "        - name: Sources 2016\n",
            "          type: integer\n",
            "        - name: Standard error 2016\n",
            "          type: number\n",
            "        - name: CPI score 2015\n",
            "          type: integer\n",
            "        - name: Sources 2015\n",
            "          type: integer\n",
            "        - name: Standard error 2015\n",
            "          type: number\n",
            "        - name: CPI score 2014\n",
            "          type: integer\n",
            "        - name: Sources 2014\n",
            "          type: integer\n",
            "        - name: Standard error 2014\n",
            "          type: number\n",
            "        - name: CPI Score 2013\n",
            "          type: integer\n",
            "        - name: Sources 2013\n",
            "          type: integer\n",
            "        - name: Standard error 2013\n",
            "          type: number\n",
            "        - name: CPI Score 2012\n",
            "          type: integer\n",
            "        - name: Sources 2012\n",
            "          type: integer\n",
            "        - name: Standard error 2012\n",
            "          type: number\n",
            "    scheme: file\n",
            "    stats:\n",
            "      bytes: 0\n",
            "      fields: 34\n",
            "      hash: ''\n",
            "      rows: 180\n",
            "\n"
          ]
        }
      ]
    },
    {
      "cell_type": "markdown",
      "metadata": {
        "id": "gIP-qWOzSxY5"
      },
      "source": [
        "# Related documentation\n",
        "\n",
        "* [Frictionless data guides](https://framework.frictionlessdata.io/docs/guides/guides-overview) - introductory to advanced guides\n",
        "* [Biology tutorial notebook](https://colab.research.google.com/drive/1iIrTed-d056VXtl9t1WLQnLMC2KeK9Ul) - cleaning and transforming an Excel resource with frictionless\n"
      ]
    }
  ]
}